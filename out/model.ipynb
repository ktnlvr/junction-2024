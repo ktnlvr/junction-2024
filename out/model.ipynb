{
 "cells": [
  {
   "cell_type": "code",
   "execution_count": 5,
   "metadata": {},
   "outputs": [],
   "source": [
    "import torch\n",
    "import torch.nn as nn\n",
    "import torch.optim as optim\n",
    "import torch.nn.functional as F\n",
    "import pandas as pd\n",
    "import plotly.express as px\n",
    "import numpy as np\n",
    "import tqdm as tqdm\n",
    "from torch.utils.data import DataLoader\n",
    "import torch.amp as amp\n",
    "\n",
    "if torch.cuda.is_available(): \n",
    " dev = \"cuda:0\" \n",
    "else: \n",
    " dev = \"cpu\" \n",
    "device = torch.device(dev) "
   ]
  },
  {
   "cell_type": "code",
   "execution_count": 6,
   "metadata": {},
   "outputs": [],
   "source": [
    "INPUT_SIZE_1 = 3\n",
    "OUTPUT_SIZE_1 = 1\n",
    "\n",
    "# in:\n",
    "#   weekday\n",
    "#   today\n",
    "#   product label\n",
    "# out:\n",
    "#   days in storage\n",
    "\n",
    "labels = {\n",
    "    0: 5030,\n",
    "    1: 5409\n",
    "}\n",
    "\n",
    "class Net1(nn.Module):\n",
    "    def __init__(self):\n",
    "        super(Net1, self).__init__()\n",
    "        INTERNAL = 1\n",
    "        self.l1 = nn.Linear(INPUT_SIZE_1, INTERNAL)\n",
    "        self.relu = nn.ReLU()\n",
    "        self.l2 = nn.Linear(INTERNAL, OUTPUT_SIZE_1)\n",
    "    \n",
    "    def forward(self, x):\n",
    "        return self.l2(self.relu(self.l1(x)))"
   ]
  },
  {
   "cell_type": "code",
   "execution_count": 7,
   "metadata": {},
   "outputs": [
    {
     "name": "stderr",
     "output_type": "stream",
     "text": [
      "C:\\Users\\pix\\AppData\\Local\\Temp\\ipykernel_6732\\826075446.py:6: UserWarning: Parsing dates in %d/%m/%Y %H:%M format when dayfirst=False (the default) was specified. Pass `dayfirst=True` or specify a format to silence this warning.\n",
      "  out['production_date'] = data['PRODUCTION DATE'].map(lambda x: pd.to_datetime(x).value // 10**12)\n"
     ]
    }
   ],
   "source": [
    "class Data1(torch.utils.data.Dataset):\n",
    "    def __init__(self, filepath):\n",
    "        data = pd.read_csv(filepath)\n",
    "        out = pd.DataFrame()\n",
    "        out['product_id'] = data['product_id']\n",
    "        out['production_date'] = data['PRODUCTION DATE'].map(lambda x: pd.to_datetime(x).value // 10**12)\n",
    "        m = out['production_date'].min()\n",
    "        out['days_in_storage'] = data['days_in_storage']\n",
    "        out['weekday'] = data['weekday']\n",
    "        self.data = out\n",
    "    \n",
    "    def __len__(self):\n",
    "        return len(self.data)\n",
    "\n",
    "    def __getitem__(self, idx):\n",
    "        row = self.data.iloc[idx]\n",
    "        x = row.drop(labels=['days_in_storage']).values\n",
    "        y = row.drop(labels=['production_date', 'weekday', 'product_id']).values\n",
    "        return torch.tensor(x, dtype=torch.float), torch.tensor(y, dtype=torch.float)\n",
    "\n",
    "data1 = Data1('./time.csv')\n",
    "\n",
    "train_loader = DataLoader(\n",
    "    data1,\n",
    "    batch_size=64,\n",
    "    shuffle=True,\n",
    "    num_workers=4,\n",
    "    pin_memory=True\n",
    ")"
   ]
  },
  {
   "cell_type": "code",
   "execution_count": 8,
   "metadata": {},
   "outputs": [
    {
     "name": "stderr",
     "output_type": "stream",
     "text": [
      "100%|██████████| 10/10 [04:09<00:00, 24.90s/it]\n"
     ]
    }
   ],
   "source": [
    "model1 = Net1().to(device)\n",
    "criterion = nn.MSELoss()\n",
    "optimizer = optim.Adam(model1.parameters(), lr=0.001)\n",
    "scaler = amp.GradScaler('cuda')\n",
    "epochs = 10\n",
    "\n",
    "costval = []\n",
    "\n",
    "for i in tqdm.tqdm(range(epochs)):\n",
    "    for j, (x_train, y_train) in enumerate(data1):\n",
    "        x_train = x_train.to(device)\n",
    "        y_train = y_train.to(device)\n",
    "\n",
    "        with amp.autocast(device_type='cuda'):\n",
    "            y_pred = model1(x_train)\n",
    "            cost = criterion(y_pred, y_train)\n",
    "        \n",
    "        optimizer.zero_grad(set_to_none=True)\n",
    "        scaler.scale(cost).backward()\n",
    "        scaler.step(optimizer)\n",
    "        scaler.update()\n",
    "    if i % 1 == 0:\n",
    "        torch.save(model1, \"model1.pt\")\n",
    "\n",
    "torch.save(model1, \"model1.pt\")"
   ]
  }
 ],
 "metadata": {
  "kernelspec": {
   "display_name": "Python 3",
   "language": "python",
   "name": "python3"
  },
  "language_info": {
   "codemirror_mode": {
    "name": "ipython",
    "version": 3
   },
   "file_extension": ".py",
   "mimetype": "text/x-python",
   "name": "python",
   "nbconvert_exporter": "python",
   "pygments_lexer": "ipython3",
   "version": "3.12.7"
  }
 },
 "nbformat": 4,
 "nbformat_minor": 2
}
